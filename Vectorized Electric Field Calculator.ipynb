{
 "cells": [
  {
   "cell_type": "code",
   "execution_count": 1,
   "metadata": {},
   "outputs": [],
   "source": [
    "import numpy as np\n",
    "from typing import List, Tuple"
   ]
  },
  {
   "cell_type": "code",
   "execution_count": 20,
   "metadata": {},
   "outputs": [],
   "source": [
    "Vector = List[float]\n",
    "\n",
    "def find_rad(obsv_pnt: Vector, chrg_pnt: Vector) -> Vector:\n",
    "    '''Find the vectorized distance between a charged particle and an obervation point'''\n",
    "    obsv_pnt = np.array(obsv_pnt)\n",
    "    chrg_pnt = np.array(chrg_pnt)\n",
    "    rad = obsv_pnt - chrg_pnt\n",
    "    return rad\n",
    "\n",
    "def find_mag(rad: Vector) -> float:\n",
    "    '''Calculate the magnatude of a vector'''\n",
    "    mag = np.linalg.norm(rad)\n",
    "    return mag\n",
    "\n",
    "def find_unit(rad: Vector, mag: float) -> Vector:\n",
    "    '''Calculate the unit vector from the radius vector and magnitude'''\n",
    "    unit = rad/mag\n",
    "    return unit\n",
    "\n",
    "def point_charge(charge: float, dist: int) -> float:\n",
    "    '''Calculate the electric field from a single point charge at a given radius'''\n",
    "    k = 8.9875517923e9\n",
    "    e_field = k*(charge/(dist**2))\n",
    "    return e_field\n",
    "\n",
    "def vector_field(unit: Vector, e_field: float) -> Vector:\n",
    "    '''Calculate the vectorized electric field from the unit vector and total field generated'''\n",
    "    vec_field = unit * e_field\n",
    "    return vec_field\n",
    "\n",
    "def net_field(obsv_pnt: Vector, chrg_pnts: List[Vector], charges: List[float]) -> Vector:\n",
    "    '''Calculate and sum the net electric field as a result of multiple charged paricles\n",
    "    relative to an observation point'''\n",
    "    fields = []\n",
    "    for chrg_pnt, charge in zip(chrg_pnts, charges):\n",
    "        rad = find_rad(obsv_pnt, chrg_pnt)\n",
    "        mag = find_mag(rad)\n",
    "        unit = find_unit(rad, mag)\n",
    "        e_field = point_charge(charge, mag)\n",
    "        vec_field = vector_field(unit, e_field)\n",
    "        fields.append(vec_field)\n",
    "    return sum(fields)\n",
    "\n",
    "def find_force(charge: float, vec_field: Vector) -> Vector:\n",
    "    '''Calculates the force caused by the electric field at a charged observation point'''\n",
    "    force = vec_field * charge\n",
    "    return force\n",
    "\n",
    "def user_input():\n",
    "    try:\n",
    "        obsv_pnt = [float(x) for x in input('Location of observation point (x y z) in m: ').split()]\n",
    "        num_part = int(input('Number of charged particles: '))\n",
    "    \n",
    "        chrg_pnts = []\n",
    "        charges = []\n",
    "        for idx, particle in enumerate(range(num_part)):\n",
    "            idx += 1\n",
    "            chrg_pnt = [float(x) for x in input(f'Location of charged particle {idx} (x y z) in m: ').split()]\n",
    "            chrg_pnts.append(chrg_pnt)\n",
    "            charge = float(input(f'Charge of the particle {idx} in C: '))\n",
    "            charges.append(charge)\n",
    "        vec_field = net_field(obsv_pnt, chrg_pnts, charges)\n",
    "\n",
    "        calc_force = input('Calculate the force? (y/n): ').strip().lower()\n",
    "        if calc_force == 'y':\n",
    "            print('Electric field: ', vec_field)\n",
    "            force_chrg = float(input(f'Charge of the particle @ the observation point in C: '))\n",
    "            return find_force(force_chrg, vec_field)\n",
    "        else:\n",
    "            return net_field\n",
    "    \n",
    "    except ValueError:\n",
    "        return 'ValueError occured...were all inputs valid?'"
   ]
  },
  {
   "cell_type": "code",
   "execution_count": 22,
   "metadata": {},
   "outputs": [
    {
     "name": "stdout",
     "output_type": "stream",
     "text": [
      "Location of observation point (x y z) in m: 0 0.06 0\n",
      "Number of charged particles: 2\n",
      "Location of charged particle 1 (x y z) in m: -0.01 0 0\n",
      "Charge of the particle 1 in C: -4e-9\n",
      "Location of charged particle 2 (x y z) in m: 0.03 0 0\n",
      "Charge of the particle 2 in C: 5e-9\n",
      "Calculate the force? (y/n): y\n",
      "Electric field:  [-6071.69366932  -653.07437594     0.        ]\n",
      "Charge of the particle @ the observation point in C: -1.62e-19\n"
     ]
    },
    {
     "data": {
      "text/plain": [
       "array([ 9.83614374e-16,  1.05798049e-16, -0.00000000e+00])"
      ]
     },
     "execution_count": 22,
     "metadata": {},
     "output_type": "execute_result"
    }
   ],
   "source": [
    "user_input()"
   ]
  }
 ],
 "metadata": {
  "kernelspec": {
   "display_name": "Python 3",
   "language": "python",
   "name": "python3"
  },
  "language_info": {
   "codemirror_mode": {
    "name": "ipython",
    "version": 3
   },
   "file_extension": ".py",
   "mimetype": "text/x-python",
   "name": "python",
   "nbconvert_exporter": "python",
   "pygments_lexer": "ipython3",
   "version": "3.6.9"
  }
 },
 "nbformat": 4,
 "nbformat_minor": 4
}